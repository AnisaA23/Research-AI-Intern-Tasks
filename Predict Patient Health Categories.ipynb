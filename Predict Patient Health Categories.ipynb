{
 "cells": [
  {
   "cell_type": "markdown",
   "id": "6009571a",
   "metadata": {},
   "source": [
    "Task 3: Predict Patient Health Categories "
   ]
  },
  {
   "cell_type": "markdown",
   "id": "d513de97",
   "metadata": {},
   "source": [
    "1. For the first step of preprocessing the dataset, I imported beneficial libraries for this task and also assigned df as the variable that holds the dataset."
   ]
  },
  {
   "cell_type": "code",
   "execution_count": null,
   "id": "9fc00654",
   "metadata": {},
   "outputs": [],
   "source": [
    "import pandas as pd   # This import will be used for data manipulation\n",
    "import numpy as np   # This import will be used for working with arrays\n",
    "import seaborn as sns   # This import will be used for data visualisation and dataset loading \n",
    "import matplotlib.pyplot as plt   # This import will be used for plotting\n",
    "from sklearn.model_selection import train_test_split   # This import will be used for splittig data into train and test sets \n",
    "from sklearn.preprocessing import StandardScaler   # This import will be used for Scaling Features  \n",
    "\n",
    "df1 = pd.read_csv(\"test_data.csv\")   # Loads the dataset into the variable df1\n",
    "df = df1.drop(\"vitals_blood_pressure\", axis = 1)   # Due to blood pressure being displayed as systolic/diastolic this would alter the \n",
    "print(\"Dataset preview:\\n\", df.head())   # Displays the first few rows of th dataset"
   ]
  },
  {
   "cell_type": "code",
   "execution_count": null,
   "id": "e0c0bfa1",
   "metadata": {},
   "outputs": [],
   "source": [
    "# This will allow to view the basic information about the dataset\n",
    "print(df.info())   # Output: this will show the column names, data types, non-null counts and so on \n",
    "\n",
    "# We need to now also view the statistical summary of numrical columns \n",
    "print(df.describe())   # This wil output thingd such as the mean, std, min, 25%, 50%, 75%, max for numerical columns "
   ]
  },
  {
   "cell_type": "code",
   "execution_count": null,
   "id": "2639bde3",
   "metadata": {},
   "outputs": [],
   "source": [
    "# As the dataset contains string variables, I will encode sleep quality to integers\n",
    "df['sleep_quality'] = df['sleep_quality'].map({'poor':0, 'fair':1, 'good':2, 'excellent':3})   # This will map 'sleep_quality' to 0, 1, 2 and 3 for poor, fair, good and excellent \n",
    "\n",
    "print(df)"
   ]
  },
  {
   "cell_type": "code",
   "execution_count": null,
   "id": "7d5f57d2",
   "metadata": {},
   "outputs": [],
   "source": [
    "\n",
    "def seperate_string(val):   # Function to seperate the string and remove the '|' from the data points \n",
    "    try:\n",
    "        return np.mean([float(x) for x in val.split('|')])\n",
    "    except Exception as e:\n",
    "        return np.nan\n",
    "\n",
    "df['vitals_heart_rate'] = df['vitals_heart_rate'].apply(seperate_string)   # Replaces multiple data in the data point with the mean vital heart rate\n",
    "df['vitals_temperature'] = df['vitals_temperature'].apply(seperate_string)   # Replaces multiple data in the data point with the mean vital temperature\n",
    "\n",
    "print(\"\\nData with mean:\")\n",
    "print(df.head())"
   ]
  }
 ],
 "metadata": {
  "kernelspec": {
   "display_name": "myenv",
   "language": "python",
   "name": "python3"
  },
  "language_info": {
   "codemirror_mode": {
    "name": "ipython",
    "version": 3
   },
   "file_extension": ".py",
   "mimetype": "text/x-python",
   "name": "python",
   "nbconvert_exporter": "python",
   "pygments_lexer": "ipython3",
   "version": "3.10.13"
  }
 },
 "nbformat": 4,
 "nbformat_minor": 5
}
