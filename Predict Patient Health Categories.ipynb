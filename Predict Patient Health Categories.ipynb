{
 "cells": [
  {
   "cell_type": "markdown",
   "id": "6009571a",
   "metadata": {},
   "source": [
    "Task 3: Predict Patient Health Categories "
   ]
  },
  {
   "cell_type": "code",
   "execution_count": null,
   "id": "9fc00654",
   "metadata": {},
   "outputs": [],
   "source": [
    "import pandas as pd   # This import will be used for data manipulation\n",
    "import seaborn as sns   # This import will be used for data visualisation and dataset loading \n",
    "import matplotlib.pyplot as plt   # This import will be used for plotting\n",
    "from sklearn.model_selection import train_test_split   # This import will be used for splittig data into train and test sets \n",
    "from sklearn.preprocessing import StandardScaler   # This import will be used for Scaling Features  \n",
    "\n",
    "df = pd.read_csv(\"parkinsons.csv\")   # Loads the dataset into the variable df\n",
    "print(\"Dataset preview:\\n\", df.head())   # Displays the first few rows of th dataset"
   ]
  },
  {
   "cell_type": "code",
   "execution_count": null,
   "id": "e0c0bfa1",
   "metadata": {},
   "outputs": [],
   "source": [
    "# This will allow to view the basic information about the dataset\n",
    "print(df.info())   # Output: this will show the column names, data types, non-null counts and so on \n",
    "\n",
    "# We need to now also view the statistical summary of numrical columns \n",
    "print(df.describe())   # This wil output thingd such as the mean, std, min, 25%, 50%, 75%, max for numerical columns "
   ]
  },
  {
   "cell_type": "code",
   "execution_count": null,
   "id": "2639bde3",
   "metadata": {},
   "outputs": [],
   "source": [
    "# As the dataset contains string variables, I will encode sleep quality to integers\n",
    "df['sleep_quality'] = df['sleep_quality'].map({'poor':1, 'fair':1, 'good':2, 'excellent':3})   # This will map 'sleep_quality' to 0, 1, 2 and 3 for poor, fair, good and excellent "
   ]
  }
 ],
 "metadata": {
  "kernelspec": {
   "display_name": "myenv",
   "language": "python",
   "name": "python3"
  },
  "language_info": {
   "name": "python",
   "version": "3.10.13"
  }
 },
 "nbformat": 4,
 "nbformat_minor": 5
}
